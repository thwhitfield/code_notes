{
 "cells": [
  {
   "cell_type": "markdown",
   "id": "56c1f825-e04f-4a10-af34-964405240304",
   "metadata": {},
   "source": [
    "# Git notes"
   ]
  },
  {
   "cell_type": "markdown",
   "id": "06668d69-4733-4f45-8109-84f7bcc9033d",
   "metadata": {},
   "source": [
    "### git commit with multiple lines using anaconda prompt on windows\n",
    "\n",
    "- `git commit -m \"Short subject line\" -m \"Longer description...\"`\n",
    "- https://stackoverflow.com/questions/29933349/how-can-i-make-git-commit-messages-divide-into-multiple-lines"
   ]
  },
  {
   "cell_type": "markdown",
   "id": "c581c7e0-0134-48b0-bf85-b692414b7687",
   "metadata": {},
   "source": [
    "### git commit message format\n",
    "- https://python-bloggers.com/2020/05/how-to-write-a-git-commit-message-in-7-steps/\n",
    "\n",
    "```\n",
    "Summarize changes in around 50 characters or less\n",
    " \n",
    "More detailed explanatory text, if necessary. Wrap it to about 72\n",
    "characters or so. In some contexts, the first line is treated as the\n",
    "subject of the commit and the rest of the text as the body. The\n",
    "blank line separating the summary from the body is critical (unless\n",
    "you omit the body entirely); various tools like `log`, `shortlog`\n",
    "and `rebase` can get confused if you run the two together.\n",
    " \n",
    "Explain the problem that this commit is solving. Focus on why you\n",
    "are making this change as opposed to how (the code explains that).\n",
    "Are there side effects or other unintuitive consequences of this\n",
    "change? Here's the place to explain them.\n",
    " \n",
    "Further paragraphs come after blank lines.\n",
    " \n",
    " - Bullet points are okay, too\n",
    " \n",
    " - Typically a hyphen or asterisk is used for the bullet, preceded\n",
    "   by a single space, with blank lines in between, but conventions\n",
    "   vary here\n",
    " \n",
    "If you use an issue tracker, put references to them at the bottom,\n",
    "like this:\n",
    " \n",
    "Resolves: #123\n",
    "See also: #456, #789\n",
    "```"
   ]
  },
  {
   "cell_type": "code",
   "execution_count": null,
   "id": "c9bcc206-8bbb-43c4-a758-f940998f8a54",
   "metadata": {},
   "outputs": [],
   "source": []
  },
  {
   "cell_type": "code",
   "execution_count": null,
   "id": "3f6295b3-a024-4131-b599-2a5aa036a3d0",
   "metadata": {},
   "outputs": [],
   "source": []
  },
  {
   "cell_type": "code",
   "execution_count": null,
   "id": "d345d498-4f61-4f53-a1c2-a5cb0867b6e4",
   "metadata": {},
   "outputs": [],
   "source": []
  },
  {
   "cell_type": "code",
   "execution_count": null,
   "id": "0e65b7b9-9d2e-4f19-aa03-c9a781d131e5",
   "metadata": {},
   "outputs": [],
   "source": []
  }
 ],
 "metadata": {
  "kernelspec": {
   "display_name": "Python 3 (ipykernel)",
   "language": "python",
   "name": "python3"
  },
  "language_info": {
   "codemirror_mode": {
    "name": "ipython",
    "version": 3
   },
   "file_extension": ".py",
   "mimetype": "text/x-python",
   "name": "python",
   "nbconvert_exporter": "python",
   "pygments_lexer": "ipython3",
   "version": "3.9.7"
  }
 },
 "nbformat": 4,
 "nbformat_minor": 5
}
