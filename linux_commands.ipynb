{
 "cells": [
  {
   "cell_type": "markdown",
   "id": "9b0e4c94-ef75-4292-9f46-10e31b171702",
   "metadata": {
    "tags": []
   },
   "source": [
    "# Linux Commands"
   ]
  },
  {
   "cell_type": "markdown",
   "id": "06b27edb-65d9-490e-84cd-a1d58525ffdb",
   "metadata": {},
   "source": [
    "- `du -h --max-depth=1`\n",
    "    - Gets the size of each of the directories in the current directory. Setting max-depth higher will provide the sizes of addiitonal levels beneath the current directory."
   ]
  },
  {
   "cell_type": "markdown",
   "id": "3b7ec49d-0674-4c12-a0e4-0c31ea3266d5",
   "metadata": {},
   "source": [
    "- `find . -name \"*.csv\" -delete`\n",
    "    - Finds and deletes all files in the current directory (or its subdirectories) that end in .csv and it deletes them"
   ]
  },
  {
   "cell_type": "markdown",
   "id": "d38becdb-9f11-4296-b8a3-9a3e457c2087",
   "metadata": {},
   "source": [
    "- `cp -p ./* <new_dir>`\n",
    "    - Copies all the files in the current directory (but not files in subdirectories) to new_dir. -p means that the file attributes (like file creation date) are preserved if possible."
   ]
  },
  {
   "cell_type": "code",
   "execution_count": null,
   "id": "374d9a02-98aa-4fb1-b5c7-dc1ff611c753",
   "metadata": {},
   "outputs": [],
   "source": []
  },
  {
   "cell_type": "code",
   "execution_count": null,
   "id": "658946fb-3c42-4907-b361-9697903c8001",
   "metadata": {},
   "outputs": [],
   "source": []
  },
  {
   "cell_type": "code",
   "execution_count": null,
   "id": "40932af1-1979-42b8-8d66-26ada1783687",
   "metadata": {},
   "outputs": [],
   "source": []
  },
  {
   "cell_type": "code",
   "execution_count": null,
   "id": "b266a11c-10e1-46c9-9e9d-9484d4f352cd",
   "metadata": {},
   "outputs": [],
   "source": []
  },
  {
   "cell_type": "code",
   "execution_count": null,
   "id": "b01d8cce-b191-4d36-a94d-1d60333acd2c",
   "metadata": {},
   "outputs": [],
   "source": []
  },
  {
   "cell_type": "code",
   "execution_count": null,
   "id": "67c9068b-62de-4270-bf75-6ed09b1aaf7c",
   "metadata": {},
   "outputs": [],
   "source": []
  },
  {
   "cell_type": "code",
   "execution_count": null,
   "id": "25143a92-2976-484d-b6c2-d2ad41e9866b",
   "metadata": {},
   "outputs": [],
   "source": []
  },
  {
   "cell_type": "code",
   "execution_count": null,
   "id": "90c8ce20-4358-4280-8913-bb6fc858bffb",
   "metadata": {},
   "outputs": [],
   "source": []
  },
  {
   "cell_type": "code",
   "execution_count": null,
   "id": "d98d7f1f-cb9a-49c1-8329-af6afef5243b",
   "metadata": {},
   "outputs": [],
   "source": []
  },
  {
   "cell_type": "code",
   "execution_count": null,
   "id": "13e4beb7-0f3b-460d-8768-f299ca0c63a6",
   "metadata": {},
   "outputs": [],
   "source": []
  },
  {
   "cell_type": "code",
   "execution_count": null,
   "id": "615f062e-e0c9-4635-9924-f669c077d2e6",
   "metadata": {},
   "outputs": [],
   "source": []
  },
  {
   "cell_type": "code",
   "execution_count": null,
   "id": "68d3d23f-6ca7-4062-a3d5-3d6a2a152500",
   "metadata": {},
   "outputs": [],
   "source": []
  }
 ],
 "metadata": {
  "kernelspec": {
   "display_name": "Python 3 (ipykernel)",
   "language": "python",
   "name": "python3"
  },
  "language_info": {
   "codemirror_mode": {
    "name": "ipython",
    "version": 3
   },
   "file_extension": ".py",
   "mimetype": "text/x-python",
   "name": "python",
   "nbconvert_exporter": "python",
   "pygments_lexer": "ipython3",
   "version": "3.9.7"
  }
 },
 "nbformat": 4,
 "nbformat_minor": 5
}
